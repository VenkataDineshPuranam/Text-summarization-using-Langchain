import os
from dotenv import load_dotenv
load_dotenv()
from langchain_groq import ChatGroq

api_key=os.getenv("GROQ_API_KEY")
llm=ChatGroq(groq_api_key=api_key, model_name="qwen-2.5-32b")
llm

from langchain.schema import (
    AIMessage,
    HumanMessage,
    SystemMessage

)

speech = """Let me begin with a simple experiment.

If you upload your medical report to an AI app, it can explain in simple language, free of any jargon, what it means for your health. But, if you ask the same app to draw an image of someone writing with their Left hand, the app will most likely draw someone writing with their Right hand. Because that is what the training data is dominated by.

It shows that while the positive potential of AI is absolutely amazing, there are many biases that we need to think carefully about. That is why I am grateful to my friend, President Macron, for hosting this summit. And for inviting me to co-chair it.

Friends,

AI is already re-shaping our polity, our economy, our security and even our society. AI is writing the code for humanity in this century. But, it is very different from other technology milestones in human history.

AI is developing at an unprecedented scale and speed. And being adopted and deployed even faster. There is also a deep inter-dependence across borders. Therefore, there is a need for collective global efforts to establish governance and standards, that uphold our shared values, address risks, and build trust.

But, Governance is not just about managing risks and rivalries. It is also about promoting innovation, and deploying it for the global good. So, we must think deeply and discuss openly about innovation and governance.

Governance is also about ensuring access to all, especially in the Global South. It is where the capacities are most lacking - be it compute power, talent, data, or the financial resources.

Friends,

AI can help transform millions of lives by improving health, education, agriculture and so much more. It can help create a world in which the journey to Sustainable Development Goals becomes easier and faster.

To do this, we must pool together resources and talent. We must develop open-source systems that enhance trust and transparency. We must build quality data sets, free from biases. We must democratise technology and create people-centric applications. We must address concerns related to cyber security, disinformation, and deep fakes. And, we must also ensure that technology is rooted in local ecosystems for it to be effective and useful.

Friends,

Loss of jobs is AI’s most feared disruption. But, history has shown that work does not disappear due to technology. Its nature changes and new types of jobs are created. We need to invest in skilling and re-skilling our people for an AI-driven future.

Friends,

There is no doubt that the high energy intensity of AI needs to be looked into. This will require green power to fuel its future.

India and France have worked together for years through initiatives like the International Solar Alliance to harness the power of the sun. As we advance our partnership to AI, it is a natural progression from sustainability to innovation to shape a smarter and responsible future.

At the same time, Sustainable AI does not only mean using clean energy. AI models must also be efficient and sustainable in size, data needs and resource requirements. After all, the human brain manages to compose poetry and design space ships using less power than most lightbulbs.

Friends,

India has successfully built a Digital Public Infrastructure for over 1.4 billion people at a very low cost. It is built around an open and accessible network. It has regulations, and a wide range of applications to modernize our economy, reform governance and transform the lives of our people.

We have unlocked the power of data through our Data Empowerment and Protection Architecture. And, we have made digital commerce democratic and accessible to all. This vision is the foundation of India’s National AI Mission.

That is why, during our G20 Presidency, we built a consensus on Harnessing AI Responsibly, for Good, and for All. Today, India leads in AI adoption, and techno-legal solutions on data privacy.

We are developing AI applications for public good. We have one of the world’s largest AI talent pools. India is building its own Large Language Model considering our diversity. We also have a unique public-private partnership model for pooling resources like compute power. It is made available to our start-ups and researchers at an affordable cost. And, India is ready to share its experience and expertise to ensure that the AI future is for Good, and for All.

Friends,

We are at the dawn of the AI age that will shape the course of humanity. Some people worry about machines becoming superior in intelligence to humans. But, no one holds the key to our collective future and shared destiny other than us humans.

That sense of responsibility must guide us."""
chat_message = [
    SystemMessage(content="You are an expert with expertise with summarizing speeches"),
    HumanMessage(content=f"Please provide a concise short summary for the following speech: \n Text:{speech}")
]
llm.get_num_tokens(speech)
llm(chat_message)
### Prompt Template text Summarization
from langchain.chains import LLMChain
from langchain import PromptTemplate

generictemplate = """You are a helpful assistant. Write a summary of the following speech:
Speech:{speech}
translate the precise summary into {language}"""


prompt = PromptTemplate(
    template=generictemplate,
    input_variables=["speech", "language"],
)
prompt

complete_prompt  = prompt.format(language = "telugu", speech = speech)
complete_prompt
llm.get_num_tokens(complete_prompt)
llm_chain = LLMChain(llm=llm,prompt=prompt)
summary=llm_chain.run({"speech": speech, "language":"telugu"})
summary
### Stuff Document Chain Text Summarization Technique
from langchain_community.document_loaders import PyPDFLoader

file_path = "/Users/dpuranam/Downloads/What+is+Prompt+Engineering_.pdf"
loader = PyPDFLoader(file_path)
docs = loader.load()
docs
template = """write a concise summary and short summary of the following document:
document: {text}
summary:
"""

prompt = PromptTemplate(template=template, input_variables=["text"])
prompt
from langchain.chains.summarize import load_summarize_chain
chain = load_summarize_chain(llm, chain_type="stuff",prompt=prompt, verbose=True)
output_summary = chain.run(docs)
output_summary
### Map Reduce to Summarize Large documents
from langchain.text_splitter import RecursiveCharacterTextSplitter
final_docs = RecursiveCharacterTextSplitter(
    chunk_size=2000,
    chunk_overlap=100,
    length_function=len,
    is_separator_regex=False,
).split_documents(docs)
final_docs
len(final_docs)


chunk_prompt = """
Please sumamrise the below document:
Document: {text}
Summary:
"""
map_prompt_template =  PromptTemplate(input_variables=['text'], template=chunk_prompt)
final_prompt = """

Provide the final summary of the with the important points.

Add a motivation title, Start the precise summary with an introduction and provide the summary in number of points for the docuemnt.

Document: {text} 
"""
final_prompt_template = PromptTemplate(
    input_variables=["text"],
    template=final_prompt
)
final_prompt_template

summary_chain = load_summarize_chain(
    llm=llm,
    chain_type='map_reduce',
    verbose=True,
    map_prompt=map_prompt_template,
    combine_prompt=final_prompt_template
)
output_summary = summary_chain.run(final_docs)
output_summary
### Refine Chain for Summarization
summary_chain = load_summarize_chain(
    llm=llm,
    chain_type='refine',
    verbose=True,
)
output_summary = summary_chain.run(final_docs)
output_summary




